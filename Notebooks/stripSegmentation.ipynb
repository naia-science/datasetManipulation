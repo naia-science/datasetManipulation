{
 "cells": [
  {
   "cell_type": "code",
   "execution_count": null,
   "id": "ec24d3be-bfb9-423c-928b-69999c57e857",
   "metadata": {},
   "outputs": [],
   "source": [
    "import ultralytics\n",
    "from ultralytics import YOLO"
   ]
  },
  {
   "cell_type": "code",
   "execution_count": null,
   "id": "1571dcc7-c19a-4eb8-b7f8-1d6e07ab4237",
   "metadata": {},
   "outputs": [],
   "source": [
    "#model = YOLO(\"yolo11s-urbanet.yaml\").load(\"Urbanetv11s.pt\")\n",
    "model = YOLO(\"yolov8n-urbanet.yaml\").load(\"2711v8n-seg.pt\")"
   ]
  },
  {
   "cell_type": "code",
   "execution_count": null,
   "id": "0254c059-8e0b-4a65-96af-8c287c3d3dd4",
   "metadata": {},
   "outputs": [],
   "source": [
    "model.export(format='tflite', half=True)"
   ]
  },
  {
   "cell_type": "code",
   "execution_count": null,
   "id": "e33f68f9-1b0a-4559-996b-24ca5790a6e2",
   "metadata": {},
   "outputs": [],
   "source": [
    "model_tflite = YOLO(\"yolov8n-urbanet_saved_model/yolov8n-urbanet_float16.tflite\")"
   ]
  },
  {
   "cell_type": "code",
   "execution_count": null,
   "id": "0bb4b62f-b887-425f-bbd8-26682e6749f9",
   "metadata": {},
   "outputs": [],
   "source": [
    "from PIL import Image\n",
    "import numpy as np\n",
    "import cv2\n",
    "img = cv2.imread(\"img_test.jpg\")\n",
    "x = 1000\n",
    "y = 1000\n",
    "size = 640\n",
    "img_crop = img[x:x+size, y:y+size]\n",
    "Image.fromarray(img_crop[:,:,::-1], 'RGB').save(\"img_test_crop.jpg\")"
   ]
  },
  {
   "cell_type": "code",
   "execution_count": null,
   "id": "9fd0616c-d20a-4cb6-a6df-a567e6a432ba",
   "metadata": {},
   "outputs": [],
   "source": [
    "res = model_tflite(\"img_test_crop.jpg\")\n",
    "Image.fromarray(res[0].plot()[:,:,::-1], 'RGB')"
   ]
  },
  {
   "cell_type": "code",
   "execution_count": null,
   "id": "16556eb3-e527-4bfd-ba61-e45e13146e7a",
   "metadata": {},
   "outputs": [],
   "source": [
    "from PIL import Image\n",
    "res = model_seg.predict(\"img_test_crop.jpg\")\n",
    "Image.fromarray(res[0].plot()[:,:,::-1], 'RGB')"
   ]
  },
  {
   "cell_type": "markdown",
   "id": "bd1527de-1496-4c2d-bae0-afddd6116986",
   "metadata": {},
   "source": [
    "## Old - surgery for surfnet"
   ]
  },
  {
   "cell_type": "code",
   "execution_count": null,
   "id": "62b3cc25-faf0-401d-9b72-21cfa68e1d5a",
   "metadata": {},
   "outputs": [],
   "source": [
    "model = YOLO(\"yolov8n-seg-surfnet.pt\")"
   ]
  },
  {
   "cell_type": "code",
   "execution_count": null,
   "id": "d1e73c95-09e4-4d30-8351-ceb11226705f",
   "metadata": {},
   "outputs": [],
   "source": [
    "model = YOLO(\"yolov8-surf.yaml\").load(\"yolov8n-seg-surfnet.pt\")"
   ]
  },
  {
   "cell_type": "code",
   "execution_count": null,
   "id": "77c71c0e-de43-4452-8e70-20f492b87146",
   "metadata": {},
   "outputs": [],
   "source": [
    "import cv2\n",
    "img = cv2.imread(\"101.JPG\")"
   ]
  },
  {
   "cell_type": "code",
   "execution_count": null,
   "id": "1d3b3a39-d6ac-4d3d-9f54-fb2adc02cb9a",
   "metadata": {},
   "outputs": [],
   "source": [
    "model.model_name"
   ]
  },
  {
   "cell_type": "code",
   "execution_count": null,
   "id": "3e3deb12-16c8-4e71-8f1b-25aed80e8ae0",
   "metadata": {},
   "outputs": [],
   "source": [
    "model.export(format='tflite', half=True)"
   ]
  },
  {
   "cell_type": "code",
   "execution_count": null,
   "id": "87bfffeb-2a6c-4b38-bdff-7c12a7d5a56f",
   "metadata": {},
   "outputs": [],
   "source": [
    "from PIL import Image\n",
    "import numpy as np\n",
    "\n",
    "Image.fromarray(res[0].plot()[:,:,::-1], 'RGB')"
   ]
  },
  {
   "cell_type": "code",
   "execution_count": null,
   "id": "3d3adfd8-8aa7-4b5e-9329-709b3ab7780f",
   "metadata": {},
   "outputs": [],
   "source": [
    "model = YOLO(\"yolov8-surf_saved_model/yolov8-surf_float16.tflite\")"
   ]
  },
  {
   "cell_type": "markdown",
   "id": "7fe8c57c-04db-4175-ad70-de207a316a84",
   "metadata": {
    "jp-MarkdownHeadingCollapsed": true
   },
   "source": [
    "### tests in module names"
   ]
  },
  {
   "cell_type": "code",
   "execution_count": null,
   "id": "1f6c1184-708d-429a-a8d5-93cfbf439704",
   "metadata": {},
   "outputs": [],
   "source": [
    "from PIL import Image\n",
    "import numpy as np\n",
    "res = model.predict(img[:,:,:])\n",
    "Image.fromarray(res[0].plot()[:,:,::-1], 'RGB')"
   ]
  },
  {
   "cell_type": "code",
   "execution_count": null,
   "id": "de30e6b2-586d-42e4-88f6-5a27ee289c4c",
   "metadata": {},
   "outputs": [],
   "source": [
    "mods = [module for module in mdl.modules()]\n",
    "sum([p.numel() for p in mods[1].parameters()])"
   ]
  },
  {
   "cell_type": "code",
   "execution_count": null,
   "id": "4a6036ad-0813-478c-9ffe-d0484d364135",
   "metadata": {},
   "outputs": [],
   "source": [
    "sum([p.numel() for p in mods[0].parameters()])"
   ]
  },
  {
   "cell_type": "code",
   "execution_count": null,
   "id": "32972c87-0b18-4f88-bd41-fb276e7d6e4e",
   "metadata": {},
   "outputs": [],
   "source": [
    "new_model = YOLO(\"yolov8n.pt\")"
   ]
  },
  {
   "cell_type": "code",
   "execution_count": null,
   "id": "9f45e226-eaf7-4995-b5d6-7358821aa205",
   "metadata": {},
   "outputs": [],
   "source": [
    "nmdl = new_model.model"
   ]
  },
  {
   "cell_type": "code",
   "execution_count": null,
   "id": "6f4304e6-bd2e-4dd5-8f3f-57c0e3f41f84",
   "metadata": {},
   "outputs": [],
   "source": [
    "nmods = [module for module in nmdl.modules()]\n",
    "sum([p.numel() for p in nmods[1].parameters()])"
   ]
  },
  {
   "cell_type": "code",
   "execution_count": null,
   "id": "6ffdf60a-0c2b-4b8e-a1ba-8f5bbc723c8d",
   "metadata": {},
   "outputs": [],
   "source": [
    "3265566 - 3157200"
   ]
  },
  {
   "cell_type": "code",
   "execution_count": null,
   "id": "481d4b44-c64f-4080-a95c-eff3162c49ac",
   "metadata": {},
   "outputs": [],
   "source": [
    "d = dict(model.named_modules())\n",
    "nd = dict(nmdl.named_modules())"
   ]
  },
  {
   "cell_type": "code",
   "execution_count": null,
   "id": "54909a72-aeca-42e2-901e-d598edf17026",
   "metadata": {},
   "outputs": [],
   "source": [
    "for k,v in nd.items():\n",
    "    if k in d:\n",
    "        print(k) # + \" :\" str(sum([p.numel() for p in v.parameters()])) + \" / \" + str(sum([p.numel() for p in d[k].parameters()])))\n",
    "    else:\n",
    "        print(k + str(sum([p.numel() for p in v.parameters()])) + \" ## No match\")"
   ]
  },
  {
   "cell_type": "code",
   "execution_count": null,
   "id": "4875f76c-1b51-4fe4-b97f-1373039cbbe4",
   "metadata": {},
   "outputs": [],
   "source": [
    "for i, (nm, m) in enumerate(zip(nmods, mods)):\n",
    "    ns = sum([p.numel() for p in nm.parameters()])\n",
    "    s = sum([p.numel() for p in m.parameters()])\n",
    "    if i >1 and ns != s:\n",
    "        print(nm.named_modules())\n",
    "        print(m)"
   ]
  }
 ],
 "metadata": {
  "kernelspec": {
   "display_name": "Python 3 (ipykernel)",
   "language": "python",
   "name": "python3"
  },
  "language_info": {
   "codemirror_mode": {
    "name": "ipython",
    "version": 3
   },
   "file_extension": ".py",
   "mimetype": "text/x-python",
   "name": "python",
   "nbconvert_exporter": "python",
   "pygments_lexer": "ipython3",
   "version": "3.11.6"
  }
 },
 "nbformat": 4,
 "nbformat_minor": 5
}
