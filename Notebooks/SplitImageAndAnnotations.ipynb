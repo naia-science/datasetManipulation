{
 "cells": [
  {
   "cell_type": "code",
   "execution_count": null,
   "id": "4c4b0231-4208-40fd-aadc-4c788382ecb4",
   "metadata": {},
   "outputs": [],
   "source": [
    "%load_ext autoreload\n",
    "%autoreload 2\n",
    "%matplotlib inline"
   ]
  },
  {
   "cell_type": "code",
   "execution_count": null,
   "id": "c8de546a-f619-4e3e-94f8-bb717750b189",
   "metadata": {},
   "outputs": [],
   "source": [
    "import torch\n",
    "import torchvision"
   ]
  },
  {
   "cell_type": "code",
   "execution_count": null,
   "id": "90ff4117-d97f-4962-bdeb-5ce488f9de0f",
   "metadata": {},
   "outputs": [],
   "source": [
    "import os\n",
    "import sys\n",
    "module_path = os.path.abspath(os.path.join('..'))\n",
    "if module_path not in sys.path:\n",
    "    sys.path.append(module_path)\n",
    "\n",
    "from splitDataset import split_large_images"
   ]
  },
  {
   "cell_type": "code",
   "execution_count": null,
   "id": "bb9c0e4c-3f39-4cf9-8fac-1de4fa526f89",
   "metadata": {
    "scrolled": true
   },
   "outputs": [],
   "source": [
    "# Fake dataset should have images and labels folder inside\n",
    "path = \"/media/charles/DATA/Programs/datasetManipulation/Notebooks/fake_dataset3\"\n",
    "if os.path.isdir(\"/media/charles/DATA/Programs/datasetManipulation/Notebooks/split\"):\n",
    "    os.system('rm -rf /media/charles/DATA/Programs/datasetManipulation/Notebooks/split')\n",
    "out = split_large_images(path)"
   ]
  },
  {
   "cell_type": "code",
   "execution_count": null,
   "id": "5de6dc16-fd98-4dfd-9f0e-bc4e66e1735c",
   "metadata": {},
   "outputs": [],
   "source": [
    "def display_images_with_annotations(images, anns, titles=None, cols=2):\n",
    "    from datasetUtils import colorFromClass\n",
    "    from matplotlib import pyplot as plt\n",
    "    import numpy as np\n",
    "    import cv2\n",
    "    \n",
    "    rows = (len(images) + cols - 1) // cols\n",
    "    fig, axes = plt.subplots(rows, cols, figsize=(12, 12))\n",
    "    axes = axes.flatten()\n",
    "\n",
    "    for i, (image, ann, ax) in enumerate(zip(images, anns, axes)):\n",
    "        if titles is not None:\n",
    "            ax.set_title(titles[i])\n",
    "\n",
    "        #img = cv2.imread(image)\n",
    "        ax.imshow(cv2.cvtColor(image, cv2.COLOR_BGR2RGB))  # Convert from BGR to RGB for matplotlib\n",
    "\n",
    "        # Read annotation file and draw polygons\n",
    "        cls = 0\n",
    "        for polygon in ann.values():\n",
    "            polygon *= np.array([image.shape[1], image.shape[0]])\n",
    "            faceColor, contourColor = colorFromClass(cls)\n",
    "            ax.fill(*zip(*polygon), facecolor=faceColor, edgecolor=contourColor, alpha=0.7)\n",
    "\n",
    "        ax.axis('off')\n",
    "\n",
    "    # Hide empty subplots\n",
    "    for j in range(len(images), rows * cols):\n",
    "        axes[j].axis('off')\n",
    "        axes[j].set_visible(False)\n",
    "\n",
    "    plt.tight_layout()\n",
    "    plt.show()"
   ]
  },
  {
   "cell_type": "code",
   "execution_count": null,
   "id": "9a416626-9f2b-46b6-8d65-7c15374a90ff",
   "metadata": {},
   "outputs": [],
   "source": [
    "display_images_with_annotations(out[0], out[1])"
   ]
  },
  {
   "cell_type": "code",
   "execution_count": null,
   "id": "f66eac5a-2fb7-4075-a050-a22e980cc56e",
   "metadata": {},
   "outputs": [],
   "source": [
    "datadir = \"/media/charles/DATA/Programs/datasetManipulation/Notebooks/split/images\"\n",
    "\n",
    "def display_imgs_from_folder(datadir):\n",
    "    from ultralytics.data import YOLODataset\n",
    "    from ultralytics.utils import LOGGER\n",
    "    import cv2\n",
    "    import matplotlib.pyplot as plt\n",
    "    import numpy as np\n",
    "    from datasetUtils import colorFromClass\n",
    "    \n",
    "    # NOTE: add placeholder to pass class index check\n",
    "    \n",
    "    dataset = YOLODataset(datadir, data=dict(names=list(range(1000))))\n",
    "    \n",
    "    for l in dataset.labels:\n",
    "        im = cv2.imread(l[\"im_file\"])\n",
    "        ax = plt.figure()\n",
    "        plt.imshow(cv2.cvtColor(im, cv2.COLOR_BGR2RGB))\n",
    "        \n",
    "        h, w = l[\"shape\"]\n",
    "        boxes = l[\"bboxes\"]\n",
    "        if len(boxes) == 0:  # skip empty labels\n",
    "            continue\n",
    "        \n",
    "        boxes[:, [0, 2]] *= w\n",
    "        boxes[:, [1, 3]] *= h\n",
    "        \n",
    "        cls = l[\"cls\"]\n",
    "        for i,polygon in enumerate(l[\"segments\"]):\n",
    "            polygon *= np.array([im.shape[1], im.shape[0]])\n",
    "            faceColor, contourColor = colorFromClass(str(int(cls[i,0])))\n",
    "            plt.fill(*zip(*polygon), facecolor=faceColor, edgecolor=contourColor, alpha=0.7)\n",
    "\n",
    "display_imgs_from_folder(datadir)"
   ]
  },
  {
   "cell_type": "code",
   "execution_count": null,
   "id": "73294494-40dd-494e-9a8e-3aaa9050eb64",
   "metadata": {},
   "outputs": [],
   "source": []
  }
 ],
 "metadata": {
  "kernelspec": {
   "display_name": "Python 3 (ipykernel)",
   "language": "python",
   "name": "python3"
  },
  "language_info": {
   "codemirror_mode": {
    "name": "ipython",
    "version": 3
   },
   "file_extension": ".py",
   "mimetype": "text/x-python",
   "name": "python",
   "nbconvert_exporter": "python",
   "pygments_lexer": "ipython3",
   "version": "3.11.6"
  }
 },
 "nbformat": 4,
 "nbformat_minor": 5
}
