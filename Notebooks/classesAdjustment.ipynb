{
 "cells": [
  {
   "cell_type": "markdown",
   "metadata": {},
   "source": [
    "# Ajustement des classes pour mélange de dataset"
   ]
  },
  {
   "cell_type": "code",
   "execution_count": 40,
   "metadata": {},
   "outputs": [],
   "source": [
    "import json\n",
    "import os\n",
    "\n",
    "def tacoClassMatch(tacoClassID):\n",
    "    # May have to be updated if Naia classes or TACO classes are changed\n",
    "\n",
    "    # bon au final je tire pas vraiment profit du dictionnaire des classes naia, mais remplir à la mano les liens Taco -> Naia aurait été beaucoup plus long\n",
    "    # que de faire un matching comme j'ai fait, et certainement moins facilement maintenable\n",
    "    \n",
    "    # On crée le dictionari des classes Naia, pour pouvoir le modifier simplement si besoin\n",
    "    NaiaClassesValue = { 0: \"autre\",\n",
    "                    1: \"autre-papier-carton\",\n",
    "                    2: \"autre-plastique-fragments\",\n",
    "                    3: \"autre-polystyrene\",\n",
    "                    4: \"bouteille-en-plastique\",\n",
    "                    5: \"bouteille-en-verre\",\n",
    "                    6: \"cannette\",\n",
    "                    7:\"emballage-alimentaire-papier\",\n",
    "                    8:\"emballage-alimentaire-plastique\",\n",
    "                    9: \"indefini\",\n",
    "                    10 : \"megot\",\n",
    "                    11 : \"sac-ordures-menageres\"}\n",
    "\n",
    "\n",
    "    # On l'inverse, pour pouvoir accéder à l'ID de la classe à partir de son nom, et rendre le matching plus lisible et maintenable\n",
    "    \n",
    "    NaiaClassesKey = {v: k for k, v in NaiaClassesValue.items()}\n",
    "    match tacoClassID:\n",
    "        case 59:\n",
    "            return NaiaClassesKey[\"megot\"]\n",
    "        case 10 | 11 | 12:\n",
    "            return NaiaClassesKey[\"cannette\"]\n",
    "        case 41 | 40 | 38:\n",
    "            return NaiaClassesKey[\"sac-ordures-menageres\"]\n",
    "        case 6 | 26:\n",
    "            return NaiaClassesKey[\"bouteille-en-verre\"]\n",
    "        case 4 | 5:\n",
    "            return NaiaClassesKey[\"bouteille-en-plastique\"]\n",
    "        case 15 | 56 | 20 | 19 | 18 | 16:\n",
    "            return NaiaClassesKey[\"emballage-alimentaire-papier\"]\n",
    "        case 55 | 49 | 47 | 22 | 46 | 45 | 44 | 43 | 42 | 39 | 37 | 24 | 21:\n",
    "            return NaiaClassesKey[\"emballage-alimentaire-plastique\"]\n",
    "        case 7 | 48 | 36 | 29 | 27:\n",
    "            return NaiaClassesKey[\"autre-plastique-fragments\"]\n",
    "        case 14 | 34 | 33 | 32 | 31 | 30 | 17:\n",
    "            return NaiaClassesKey[\"autre-papier-carton\"]\n",
    "        case 57:\n",
    "            return NaiaClassesKey[\"autre-polystyrene\"]\n",
    "        case 0 | 1 | 8 | 9 | 13 | 58 | 53 | 52 | 51 | 28 | 25:\n",
    "            return NaiaClassesKey[\"autre\"]\n",
    "        case _:\n",
    "            return NaiaClassesKey[\"indefini\"]\n",
    "\n",
    "\n",
    "def tacoClassesToNaia(path_to_Yolo):\n",
    "    # for train, test and val directories in yolo, open their subdirectory \"labels\".\n",
    "    # for each file in the labels directories, open it, and for each line in the file, convert the taco class to a Naia class\n",
    "    # (change the class number using the tacoClassMatch function)\n",
    "    # write the new class number in the file, and save it in the same directory\n",
    "\n",
    "#make sure to only replace the first instance of the number in the line, and not the potential second one (for the segmentation points)\n",
    "    \n",
    "    for directory in [\"train\", \"test\", \"val\"]:\n",
    "        for file in os.listdir(path_to_Yolo + directory + \"/labels\"):\n",
    "            with open(path_to_Yolo + directory + \"/labels/\" + file, \"r\") as f:\n",
    "                lines = f.readlines()\n",
    "            with open(path_to_Yolo + directory + \"/labels/\" + file, \"w\") as f:\n",
    "                for line in lines:\n",
    "                    tacoClassID = int(line.split()[0])\n",
    "                    newClassID = tacoClassMatch(tacoClassID)\n",
    "                    line = line.replace(str(tacoClassID), str(newClassID), 1)\n",
    "                    f.write(line)\n"
   ]
  },
  {
   "cell_type": "code",
   "execution_count": 42,
   "metadata": {},
   "outputs": [],
   "source": [
    "tacoClassesToNaia(\"./TACO/data/yolo copy 3/\")"
   ]
  }
 ],
 "metadata": {
  "kernelspec": {
   "display_name": "default",
   "language": "python",
   "name": "python3"
  },
  "language_info": {
   "codemirror_mode": {
    "name": "ipython",
    "version": 3
   },
   "file_extension": ".py",
   "mimetype": "text/x-python",
   "name": "python",
   "nbconvert_exporter": "python",
   "pygments_lexer": "ipython3",
   "version": "3.11.6"
  }
 },
 "nbformat": 4,
 "nbformat_minor": 2
}
