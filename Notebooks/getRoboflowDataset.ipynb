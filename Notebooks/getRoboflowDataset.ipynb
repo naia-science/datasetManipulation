{
  "cells": [
    {
      "cell_type": "markdown",
      "metadata": {
        "id": "50L1L3Gh25kd"
      },
      "source": [
        "# Récupérer un dataset Roboflow"
      ]
    },
    {
      "cell_type": "markdown",
      "metadata": {},
      "source": [
        "## Function definitions"
      ]
    },
    {
      "cell_type": "code",
      "execution_count": 1,
      "metadata": {},
      "outputs": [
        {
          "name": "stdout",
          "output_type": "stream",
          "text": [
            "Collecting roboflow==0.2.29\n",
            "  Downloading roboflow-0.2.29-py3-none-any.whl.metadata (7.0 kB)\n",
            "Collecting certifi==2022.12.7 (from roboflow==0.2.29)\n",
            "  Downloading certifi-2022.12.7-py3-none-any.whl.metadata (2.9 kB)\n",
            "Collecting chardet==4.0.0 (from roboflow==0.2.29)\n",
            "  Downloading chardet-4.0.0-py2.py3-none-any.whl (178 kB)\n",
            "\u001b[2K     \u001b[38;2;114;156;31m━━━━━━━━━━━━━━━━━━━━━━━━━━━━━━━━━━━━━━━\u001b[0m \u001b[32m178.7/178.7 kB\u001b[0m \u001b[31m4.8 MB/s\u001b[0m eta \u001b[36m0:00:00\u001b[0m[31m6.1 MB/s\u001b[0m eta \u001b[36m0:00:01\u001b[0m\n",
            "\u001b[?25hCollecting cycler==0.10.0 (from roboflow==0.2.29)\n",
            "  Downloading cycler-0.10.0-py2.py3-none-any.whl (6.5 kB)\n",
            "Collecting idna==2.10 (from roboflow==0.2.29)\n",
            "  Downloading idna-2.10-py2.py3-none-any.whl (58 kB)\n",
            "\u001b[2K     \u001b[38;2;114;156;31m━━━━━━━━━━━━━━━━━━━━━━━━━━━━━━━━━━━━━━━━\u001b[0m \u001b[32m58.8/58.8 kB\u001b[0m \u001b[31m3.9 MB/s\u001b[0m eta \u001b[36m0:00:00\u001b[0m\n",
            "\u001b[?25hRequirement already satisfied: kiwisolver>=1.3.1 in /home/xaelee/Documents/default/lib/python3.11/site-packages (from roboflow==0.2.29) (1.4.5)\n",
            "Requirement already satisfied: matplotlib in /home/xaelee/Documents/default/lib/python3.11/site-packages (from roboflow==0.2.29) (3.8.3)\n",
            "Requirement already satisfied: numpy>=1.18.5 in /home/xaelee/Documents/default/lib/python3.11/site-packages (from roboflow==0.2.29) (1.26.4)\n",
            "Requirement already satisfied: opencv-python>=4.1.2 in /home/xaelee/Documents/default/lib/python3.11/site-packages (from roboflow==0.2.29) (4.9.0.80)\n",
            "Requirement already satisfied: Pillow>=7.1.2 in /home/xaelee/Documents/default/lib/python3.11/site-packages (from roboflow==0.2.29) (10.2.0)\n",
            "Collecting pyparsing==2.4.7 (from roboflow==0.2.29)\n",
            "  Downloading pyparsing-2.4.7-py2.py3-none-any.whl (67 kB)\n",
            "\u001b[2K     \u001b[38;2;114;156;31m━━━━━━━━━━━━━━━━━━━━━━━━━━━━━━━━━━━━━━━━\u001b[0m \u001b[32m67.8/67.8 kB\u001b[0m \u001b[31m8.9 MB/s\u001b[0m eta \u001b[36m0:00:00\u001b[0m\n",
            "\u001b[?25hRequirement already satisfied: python-dateutil in /home/xaelee/Documents/default/lib/python3.11/site-packages (from roboflow==0.2.29) (2.8.2)\n",
            "Collecting python-dotenv (from roboflow==0.2.29)\n",
            "  Downloading python_dotenv-1.0.1-py3-none-any.whl.metadata (23 kB)\n",
            "Requirement already satisfied: requests in /home/xaelee/Documents/default/lib/python3.11/site-packages (from roboflow==0.2.29) (2.31.0)\n",
            "Requirement already satisfied: six in /home/xaelee/Documents/default/lib/python3.11/site-packages (from roboflow==0.2.29) (1.16.0)\n",
            "Requirement already satisfied: urllib3>=1.26.6 in /home/xaelee/Documents/default/lib/python3.11/site-packages (from roboflow==0.2.29) (2.2.1)\n",
            "Collecting wget (from roboflow==0.2.29)\n",
            "  Downloading wget-3.2.zip (10 kB)\n",
            "  Installing build dependencies ... \u001b[?25ldone\n",
            "\u001b[?25h  Getting requirements to build wheel ... \u001b[?25ldone\n",
            "\u001b[?25h  Installing backend dependencies ... \u001b[?25ldone\n",
            "\u001b[?25h  Preparing metadata (pyproject.toml) ... \u001b[?25ldone\n",
            "\u001b[?25hRequirement already satisfied: tqdm>=4.41.0 in /home/xaelee/Documents/default/lib/python3.11/site-packages (from roboflow==0.2.29) (4.66.2)\n",
            "Requirement already satisfied: PyYAML>=5.3.1 in /home/xaelee/Documents/default/lib/python3.11/site-packages (from roboflow==0.2.29) (6.0.1)\n",
            "Collecting requests-toolbelt (from roboflow==0.2.29)\n",
            "  Downloading requests_toolbelt-1.0.0-py2.py3-none-any.whl.metadata (14 kB)\n",
            "Requirement already satisfied: contourpy>=1.0.1 in /home/xaelee/Documents/default/lib/python3.11/site-packages (from matplotlib->roboflow==0.2.29) (1.2.0)\n",
            "Requirement already satisfied: fonttools>=4.22.0 in /home/xaelee/Documents/default/lib/python3.11/site-packages (from matplotlib->roboflow==0.2.29) (4.49.0)\n",
            "Requirement already satisfied: packaging>=20.0 in /home/xaelee/Documents/default/lib/python3.11/site-packages (from matplotlib->roboflow==0.2.29) (23.2)\n",
            "Requirement already satisfied: charset-normalizer<4,>=2 in /home/xaelee/Documents/default/lib/python3.11/site-packages (from requests->roboflow==0.2.29) (3.3.2)\n",
            "Downloading roboflow-0.2.29-py3-none-any.whl (49 kB)\n",
            "\u001b[2K   \u001b[38;2;114;156;31m━━━━━━━━━━━━━━━━━━━━━━━━━━━━━━━━━━━━━━━━\u001b[0m \u001b[32m49.0/49.0 kB\u001b[0m \u001b[31m8.6 MB/s\u001b[0m eta \u001b[36m0:00:00\u001b[0m\n",
            "\u001b[?25hDownloading certifi-2022.12.7-py3-none-any.whl (155 kB)\n",
            "\u001b[2K   \u001b[38;2;114;156;31m━━━━━━━━━━━━━━━━━━━━━━━━━━━━━━━━━━━━━━━━\u001b[0m \u001b[32m155.3/155.3 kB\u001b[0m \u001b[31m30.4 MB/s\u001b[0m eta \u001b[36m0:00:00\u001b[0m\n",
            "\u001b[?25hDownloading python_dotenv-1.0.1-py3-none-any.whl (19 kB)\n",
            "Downloading requests_toolbelt-1.0.0-py2.py3-none-any.whl (54 kB)\n",
            "\u001b[2K   \u001b[38;2;114;156;31m━━━━━━━━━━━━━━━━━━━━━━━━━━━━━━━━━━━━━━━━\u001b[0m \u001b[32m54.5/54.5 kB\u001b[0m \u001b[31m11.0 MB/s\u001b[0m eta \u001b[36m0:00:00\u001b[0m\n",
            "\u001b[?25hBuilding wheels for collected packages: wget\n",
            "  Building wheel for wget (pyproject.toml) ... \u001b[?25ldone\n",
            "\u001b[?25h  Created wheel for wget: filename=wget-3.2-py3-none-any.whl size=9655 sha256=9cfe79f0c65a3b4d0d5f83e5693cd7dcae09e81eacc6254597db50c480a64c3a\n",
            "  Stored in directory: /home/xaelee/.cache/pip/wheels/40/b3/0f/a40dbd1c6861731779f62cc4babcb234387e11d697df70ee97\n",
            "Successfully built wget\n",
            "Installing collected packages: wget, python-dotenv, pyparsing, idna, cycler, chardet, certifi, requests-toolbelt, roboflow\n",
            "  Attempting uninstall: pyparsing\n",
            "    Found existing installation: pyparsing 3.1.1\n",
            "    Uninstalling pyparsing-3.1.1:\n",
            "      Successfully uninstalled pyparsing-3.1.1\n",
            "  Attempting uninstall: idna\n",
            "    Found existing installation: idna 3.6\n",
            "    Uninstalling idna-3.6:\n",
            "      Successfully uninstalled idna-3.6\n",
            "  Attempting uninstall: cycler\n",
            "    Found existing installation: cycler 0.12.1\n",
            "    Uninstalling cycler-0.12.1:\n",
            "      Successfully uninstalled cycler-0.12.1\n",
            "  Attempting uninstall: certifi\n",
            "    Found existing installation: certifi 2024.2.2\n",
            "    Uninstalling certifi-2024.2.2:\n",
            "      Successfully uninstalled certifi-2024.2.2\n",
            "Successfully installed certifi-2022.12.7 chardet-4.0.0 cycler-0.10.0 idna-2.10 pyparsing-2.4.7 python-dotenv-1.0.1 requests-toolbelt-1.0.0 roboflow-0.2.29 wget-3.2\n",
            "Note: you may need to restart the kernel to use updated packages.\n",
            "Requirement already satisfied: ultralytics==8.0.196 in /home/xaelee/Documents/default/lib/python3.11/site-packages (8.0.196)\n",
            "Requirement already satisfied: matplotlib>=3.3.0 in /home/xaelee/Documents/default/lib/python3.11/site-packages (from ultralytics==8.0.196) (3.8.3)\n",
            "Requirement already satisfied: numpy>=1.22.2 in /home/xaelee/Documents/default/lib/python3.11/site-packages (from ultralytics==8.0.196) (1.26.4)\n",
            "Requirement already satisfied: opencv-python>=4.6.0 in /home/xaelee/Documents/default/lib/python3.11/site-packages (from ultralytics==8.0.196) (4.9.0.80)\n",
            "Requirement already satisfied: pillow>=7.1.2 in /home/xaelee/Documents/default/lib/python3.11/site-packages (from ultralytics==8.0.196) (10.2.0)\n",
            "Requirement already satisfied: pyyaml>=5.3.1 in /home/xaelee/Documents/default/lib/python3.11/site-packages (from ultralytics==8.0.196) (6.0.1)\n",
            "Requirement already satisfied: requests>=2.23.0 in /home/xaelee/Documents/default/lib/python3.11/site-packages (from ultralytics==8.0.196) (2.31.0)\n",
            "Requirement already satisfied: scipy>=1.4.1 in /home/xaelee/Documents/default/lib/python3.11/site-packages (from ultralytics==8.0.196) (1.12.0)\n",
            "Requirement already satisfied: torch>=1.8.0 in /home/xaelee/Documents/default/lib/python3.11/site-packages (from ultralytics==8.0.196) (2.2.0)\n",
            "Requirement already satisfied: torchvision>=0.9.0 in /home/xaelee/Documents/default/lib/python3.11/site-packages (from ultralytics==8.0.196) (0.17.0)\n",
            "Requirement already satisfied: tqdm>=4.64.0 in /home/xaelee/Documents/default/lib/python3.11/site-packages (from ultralytics==8.0.196) (4.66.2)\n",
            "Requirement already satisfied: pandas>=1.1.4 in /home/xaelee/Documents/default/lib/python3.11/site-packages (from ultralytics==8.0.196) (2.2.0)\n",
            "Requirement already satisfied: seaborn>=0.11.0 in /home/xaelee/Documents/default/lib/python3.11/site-packages (from ultralytics==8.0.196) (0.13.2)\n",
            "Requirement already satisfied: psutil in /home/xaelee/Documents/default/lib/python3.11/site-packages (from ultralytics==8.0.196) (5.9.8)\n",
            "Requirement already satisfied: py-cpuinfo in /home/xaelee/Documents/default/lib/python3.11/site-packages (from ultralytics==8.0.196) (9.0.0)\n",
            "Requirement already satisfied: thop>=0.1.1 in /home/xaelee/Documents/default/lib/python3.11/site-packages (from ultralytics==8.0.196) (0.1.1.post2209072238)\n",
            "Requirement already satisfied: contourpy>=1.0.1 in /home/xaelee/Documents/default/lib/python3.11/site-packages (from matplotlib>=3.3.0->ultralytics==8.0.196) (1.2.0)\n",
            "Requirement already satisfied: cycler>=0.10 in /home/xaelee/Documents/default/lib/python3.11/site-packages (from matplotlib>=3.3.0->ultralytics==8.0.196) (0.10.0)\n",
            "Requirement already satisfied: fonttools>=4.22.0 in /home/xaelee/Documents/default/lib/python3.11/site-packages (from matplotlib>=3.3.0->ultralytics==8.0.196) (4.49.0)\n",
            "Requirement already satisfied: kiwisolver>=1.3.1 in /home/xaelee/Documents/default/lib/python3.11/site-packages (from matplotlib>=3.3.0->ultralytics==8.0.196) (1.4.5)\n",
            "Requirement already satisfied: packaging>=20.0 in /home/xaelee/Documents/default/lib/python3.11/site-packages (from matplotlib>=3.3.0->ultralytics==8.0.196) (23.2)\n",
            "Requirement already satisfied: pyparsing>=2.3.1 in /home/xaelee/Documents/default/lib/python3.11/site-packages (from matplotlib>=3.3.0->ultralytics==8.0.196) (2.4.7)\n",
            "Requirement already satisfied: python-dateutil>=2.7 in /home/xaelee/Documents/default/lib/python3.11/site-packages (from matplotlib>=3.3.0->ultralytics==8.0.196) (2.8.2)\n",
            "Requirement already satisfied: pytz>=2020.1 in /home/xaelee/Documents/default/lib/python3.11/site-packages (from pandas>=1.1.4->ultralytics==8.0.196) (2024.1)\n",
            "Requirement already satisfied: tzdata>=2022.7 in /home/xaelee/Documents/default/lib/python3.11/site-packages (from pandas>=1.1.4->ultralytics==8.0.196) (2024.1)\n",
            "Requirement already satisfied: charset-normalizer<4,>=2 in /home/xaelee/Documents/default/lib/python3.11/site-packages (from requests>=2.23.0->ultralytics==8.0.196) (3.3.2)\n",
            "Requirement already satisfied: idna<4,>=2.5 in /home/xaelee/Documents/default/lib/python3.11/site-packages (from requests>=2.23.0->ultralytics==8.0.196) (2.10)\n",
            "Requirement already satisfied: urllib3<3,>=1.21.1 in /home/xaelee/Documents/default/lib/python3.11/site-packages (from requests>=2.23.0->ultralytics==8.0.196) (2.2.1)\n",
            "Requirement already satisfied: certifi>=2017.4.17 in /home/xaelee/Documents/default/lib/python3.11/site-packages (from requests>=2.23.0->ultralytics==8.0.196) (2022.12.7)\n",
            "Requirement already satisfied: filelock in /home/xaelee/Documents/default/lib/python3.11/site-packages (from torch>=1.8.0->ultralytics==8.0.196) (3.13.1)\n",
            "Requirement already satisfied: typing-extensions>=4.8.0 in /home/xaelee/Documents/default/lib/python3.11/site-packages (from torch>=1.8.0->ultralytics==8.0.196) (4.9.0)\n",
            "Requirement already satisfied: sympy in /home/xaelee/Documents/default/lib/python3.11/site-packages (from torch>=1.8.0->ultralytics==8.0.196) (1.12)\n",
            "Requirement already satisfied: networkx in /home/xaelee/Documents/default/lib/python3.11/site-packages (from torch>=1.8.0->ultralytics==8.0.196) (3.2.1)\n",
            "Requirement already satisfied: jinja2 in /home/xaelee/Documents/default/lib/python3.11/site-packages (from torch>=1.8.0->ultralytics==8.0.196) (3.1.3)\n",
            "Requirement already satisfied: fsspec in /home/xaelee/Documents/default/lib/python3.11/site-packages (from torch>=1.8.0->ultralytics==8.0.196) (2024.2.0)\n",
            "Requirement already satisfied: nvidia-cuda-nvrtc-cu12==12.1.105 in /home/xaelee/Documents/default/lib/python3.11/site-packages (from torch>=1.8.0->ultralytics==8.0.196) (12.1.105)\n",
            "Requirement already satisfied: nvidia-cuda-runtime-cu12==12.1.105 in /home/xaelee/Documents/default/lib/python3.11/site-packages (from torch>=1.8.0->ultralytics==8.0.196) (12.1.105)\n",
            "Requirement already satisfied: nvidia-cuda-cupti-cu12==12.1.105 in /home/xaelee/Documents/default/lib/python3.11/site-packages (from torch>=1.8.0->ultralytics==8.0.196) (12.1.105)\n",
            "Requirement already satisfied: nvidia-cudnn-cu12==8.9.2.26 in /home/xaelee/Documents/default/lib/python3.11/site-packages (from torch>=1.8.0->ultralytics==8.0.196) (8.9.2.26)\n",
            "Requirement already satisfied: nvidia-cublas-cu12==12.1.3.1 in /home/xaelee/Documents/default/lib/python3.11/site-packages (from torch>=1.8.0->ultralytics==8.0.196) (12.1.3.1)\n",
            "Requirement already satisfied: nvidia-cufft-cu12==11.0.2.54 in /home/xaelee/Documents/default/lib/python3.11/site-packages (from torch>=1.8.0->ultralytics==8.0.196) (11.0.2.54)\n",
            "Requirement already satisfied: nvidia-curand-cu12==10.3.2.106 in /home/xaelee/Documents/default/lib/python3.11/site-packages (from torch>=1.8.0->ultralytics==8.0.196) (10.3.2.106)\n",
            "Requirement already satisfied: nvidia-cusolver-cu12==11.4.5.107 in /home/xaelee/Documents/default/lib/python3.11/site-packages (from torch>=1.8.0->ultralytics==8.0.196) (11.4.5.107)\n",
            "Requirement already satisfied: nvidia-cusparse-cu12==12.1.0.106 in /home/xaelee/Documents/default/lib/python3.11/site-packages (from torch>=1.8.0->ultralytics==8.0.196) (12.1.0.106)\n",
            "Requirement already satisfied: nvidia-nccl-cu12==2.19.3 in /home/xaelee/Documents/default/lib/python3.11/site-packages (from torch>=1.8.0->ultralytics==8.0.196) (2.19.3)\n",
            "Requirement already satisfied: nvidia-nvtx-cu12==12.1.105 in /home/xaelee/Documents/default/lib/python3.11/site-packages (from torch>=1.8.0->ultralytics==8.0.196) (12.1.105)\n",
            "Requirement already satisfied: triton==2.2.0 in /home/xaelee/Documents/default/lib/python3.11/site-packages (from torch>=1.8.0->ultralytics==8.0.196) (2.2.0)\n",
            "Requirement already satisfied: nvidia-nvjitlink-cu12 in /home/xaelee/Documents/default/lib/python3.11/site-packages (from nvidia-cusolver-cu12==11.4.5.107->torch>=1.8.0->ultralytics==8.0.196) (12.3.101)\n",
            "Requirement already satisfied: six in /home/xaelee/Documents/default/lib/python3.11/site-packages (from cycler>=0.10->matplotlib>=3.3.0->ultralytics==8.0.196) (1.16.0)\n",
            "Requirement already satisfied: MarkupSafe>=2.0 in /home/xaelee/Documents/default/lib/python3.11/site-packages (from jinja2->torch>=1.8.0->ultralytics==8.0.196) (2.1.5)\n",
            "Requirement already satisfied: mpmath>=0.19 in /home/xaelee/Documents/default/lib/python3.11/site-packages (from sympy->torch>=1.8.0->ultralytics==8.0.196) (1.3.0)\n",
            "Note: you may need to restart the kernel to use updated packages.\n"
          ]
        }
      ],
      "source": [
        "#TODO : Add check si pas install avant\n",
        "\n",
        "%pip install roboflow==0.2.29\n",
        "%pip install ultralytics==8.0.196"
      ]
    },
    {
      "cell_type": "code",
      "execution_count": 2,
      "metadata": {
        "id": "cmIVK9eS_Ivi"
      },
      "outputs": [],
      "source": [
        "from roboflow import Roboflow\n",
        "import ultralytics"
      ]
    },
    {
      "cell_type": "code",
      "execution_count": 4,
      "metadata": {
        "id": "UaEpdKM34Ns7"
      },
      "outputs": [],
      "source": [
        "def dl_roboflow_dataset(ver):\n",
        "    \n",
        "    rf = Roboflow(api_key=\"ZVvVfQ704l90rsdaSeLg\")\n",
        "    project = rf.workspace(\"naia-science\").project(\"dataset-vipare\")\n",
        "    dataset = project.version(ver).download(\"yolov8\")\n",
        "\n",
        "    #TODO : switch to python calls instead of \n",
        "    !mkdir datasets\n",
        "    !mv ./Dataset-ViPARE-$ver/ ./datasets/Dataset-ViPARE-$ver/\n",
        "    !mv ./datasets/Dataset-ViPARE-$ver/data.yaml ./datasets/data.yaml"
      ]
    },
    {
      "cell_type": "code",
      "execution_count": 9,
      "metadata": {},
      "outputs": [],
      "source": [
        "def define_and_train():\n",
        "    #N pour nano le plus poti\n",
        "    model = ultralytics.YOLO('yolov8n-seg.pt')\n",
        "    %cd ./datasets\n",
        "    results = model.train(batch=8,\n",
        "                        device=\"cpu\",\n",
        "                        data=\"./data.yaml\",\n",
        "                        epochs=1,)\n",
        "    return model"
      ]
    },
    {
      "cell_type": "code",
      "execution_count": 15,
      "metadata": {},
      "outputs": [],
      "source": [
        "import os, random\n",
        "\n",
        "def display_test_image_seg_Rob(ver):\n",
        "    im_path = './Dataset-ViPARE-' + str(ver) + '/valid/images/'\n",
        "    lab_path = './Dataset-ViPARE-' + str(ver) + '/valid/labels/'\n",
        "    \n",
        "    #get random image from image directory\n",
        "    image = random.choice(os.listdir(im_path))\n",
        "\n",
        "    #get associated label by removing .jpg, adding .txt\n",
        "    label = os.path.splitext(image)[0] + '.txt'\n",
        "        \n",
        "    print(image)\n",
        "    print(label)\n"
      ]
    },
    {
      "cell_type": "code",
      "execution_count": null,
      "metadata": {},
      "outputs": [],
      "source": [
        "def delete_roboflow_dataset():\n",
        "    !rm -rf ./datasets/"
      ]
    },
    {
      "cell_type": "markdown",
      "metadata": {},
      "source": [
        "## Exemple d'utilisation"
      ]
    },
    {
      "cell_type": "code",
      "execution_count": 5,
      "metadata": {},
      "outputs": [
        {
          "name": "stdout",
          "output_type": "stream",
          "text": [
            "loading Roboflow workspace...\n",
            "loading Roboflow project...\n",
            "Dependency ultralytics<=8.0.20 is required but found version=8.0.196, to fix: `pip install ultralytics<=8.0.20`\n",
            "Downloading Dataset Version Zip in Dataset-ViPARE-2 to yolov8: 100% [43451685 / 43451685] bytes\n"
          ]
        },
        {
          "name": "stderr",
          "output_type": "stream",
          "text": [
            "Extracting Dataset Version Zip to Dataset-ViPARE-2 in yolov8:: 100%|██████████| 849/849 [00:00<00:00, 7226.16it/s]\n"
          ]
        }
      ],
      "source": [
        "dl_roboflow_dataset(2)"
      ]
    },
    {
      "cell_type": "code",
      "execution_count": 10,
      "metadata": {
        "colab": {
          "base_uri": "https://localhost:8080/"
        },
        "id": "cPQDQ0Ag8ACc",
        "outputId": "39f16439-d6a4-4194-9b27-3197c0ddc0db"
      },
      "outputs": [
        {
          "name": "stderr",
          "output_type": "stream",
          "text": [
            "Downloading https://github.com/ultralytics/assets/releases/download/v0.0.0/yolov8n-seg.pt to 'yolov8n-seg.pt'...\n",
            "100%|██████████| 6.73M/6.73M [00:00<00:00, 33.1MB/s]\n",
            "using bookmarks requires you to install the `pickleshare` library.\n",
            "New https://pypi.org/project/ultralytics/8.1.15 available 😃 Update with 'pip install -U ultralytics'\n"
          ]
        },
        {
          "name": "stdout",
          "output_type": "stream",
          "text": [
            "[Errno 2] No such file or directory: './datasets'\n",
            "/home/xaelee/Documents/datasetManipulation/Notebooks/datasets\n"
          ]
        },
        {
          "name": "stderr",
          "output_type": "stream",
          "text": [
            "Ultralytics YOLOv8.0.196 🚀 Python-3.11.6 torch-2.2.0+cu121 CPU (AMD Ryzen 5 5625U with Radeon Graphics)\n",
            "\u001b[34m\u001b[1mengine/trainer: \u001b[0mtask=segment, mode=train, model=yolov8n-seg.pt, data=./data.yaml, epochs=1, patience=50, batch=8, imgsz=640, save=True, save_period=-1, cache=False, device=cpu, workers=8, project=None, name=None, exist_ok=False, pretrained=True, optimizer=auto, verbose=True, seed=0, deterministic=True, single_cls=False, rect=False, cos_lr=False, close_mosaic=10, resume=False, amp=True, fraction=1.0, profile=False, freeze=None, overlap_mask=True, mask_ratio=4, dropout=0.0, val=True, split=val, save_json=False, save_hybrid=False, conf=None, iou=0.7, max_det=300, half=False, dnn=False, plots=True, source=None, show=False, save_txt=False, save_conf=False, save_crop=False, show_labels=True, show_conf=True, vid_stride=1, stream_buffer=False, line_width=None, visualize=False, augment=False, agnostic_nms=False, classes=None, retina_masks=False, boxes=True, format=torchscript, keras=False, optimize=False, int8=False, dynamic=False, simplify=False, opset=None, workspace=4, nms=False, lr0=0.01, lrf=0.01, momentum=0.937, weight_decay=0.0005, warmup_epochs=3.0, warmup_momentum=0.8, warmup_bias_lr=0.1, box=7.5, cls=0.5, dfl=1.5, pose=12.0, kobj=1.0, label_smoothing=0.0, nbs=64, hsv_h=0.015, hsv_s=0.7, hsv_v=0.4, degrees=0.0, translate=0.1, scale=0.5, shear=0.0, perspective=0.0, flipud=0.0, fliplr=0.5, mosaic=1.0, mixup=0.0, copy_paste=0.0, cfg=None, tracker=botsort.yaml, save_dir=runs/segment/train2\n",
            "Overriding model.yaml nc=80 with nc=12\n",
            "\n",
            "                   from  n    params  module                                       arguments                     \n",
            "  0                  -1  1       464  ultralytics.nn.modules.conv.Conv             [3, 16, 3, 2]                 \n",
            "  1                  -1  1      4672  ultralytics.nn.modules.conv.Conv             [16, 32, 3, 2]                \n",
            "  2                  -1  1      7360  ultralytics.nn.modules.block.C2f             [32, 32, 1, True]             \n",
            "  3                  -1  1     18560  ultralytics.nn.modules.conv.Conv             [32, 64, 3, 2]                \n",
            "  4                  -1  2     49664  ultralytics.nn.modules.block.C2f             [64, 64, 2, True]             \n",
            "  5                  -1  1     73984  ultralytics.nn.modules.conv.Conv             [64, 128, 3, 2]               \n",
            "  6                  -1  2    197632  ultralytics.nn.modules.block.C2f             [128, 128, 2, True]           \n",
            "  7                  -1  1    295424  ultralytics.nn.modules.conv.Conv             [128, 256, 3, 2]              \n",
            "  8                  -1  1    460288  ultralytics.nn.modules.block.C2f             [256, 256, 1, True]           \n",
            "  9                  -1  1    164608  ultralytics.nn.modules.block.SPPF            [256, 256, 5]                 \n",
            " 10                  -1  1         0  torch.nn.modules.upsampling.Upsample         [None, 2, 'nearest']          \n",
            " 11             [-1, 6]  1         0  ultralytics.nn.modules.conv.Concat           [1]                           \n",
            " 12                  -1  1    148224  ultralytics.nn.modules.block.C2f             [384, 128, 1]                 \n",
            " 13                  -1  1         0  torch.nn.modules.upsampling.Upsample         [None, 2, 'nearest']          \n",
            " 14             [-1, 4]  1         0  ultralytics.nn.modules.conv.Concat           [1]                           \n",
            " 15                  -1  1     37248  ultralytics.nn.modules.block.C2f             [192, 64, 1]                  \n",
            " 16                  -1  1     36992  ultralytics.nn.modules.conv.Conv             [64, 64, 3, 2]                \n",
            " 17            [-1, 12]  1         0  ultralytics.nn.modules.conv.Concat           [1]                           \n",
            " 18                  -1  1    123648  ultralytics.nn.modules.block.C2f             [192, 128, 1]                 \n",
            " 19                  -1  1    147712  ultralytics.nn.modules.conv.Conv             [128, 128, 3, 2]              \n",
            " 20             [-1, 9]  1         0  ultralytics.nn.modules.conv.Concat           [1]                           \n",
            " 21                  -1  1    493056  ultralytics.nn.modules.block.C2f             [384, 256, 1]                 \n",
            " 22        [15, 18, 21]  1   1006420  ultralytics.nn.modules.head.Segment          [12, 32, 64, [64, 128, 256]]  \n",
            "YOLOv8n-seg summary: 261 layers, 3265956 parameters, 3265940 gradients, 12.1 GFLOPs\n",
            "\n",
            "Transferred 381/417 items from pretrained weights\n",
            "Freezing layer 'model.22.dfl.conv.weight'\n",
            "\u001b[34m\u001b[1mtrain: \u001b[0mScanning /home/xaelee/Documents/datasetManipulation/Notebooks/datasets/Dataset-ViPARE-2/train/labels.cache... 178 images, 0 backgrounds, 0 corrupt: 100%|██████████| 178/178 [00:00<?, ?it/s]\n",
            "\u001b[34m\u001b[1mtrain: \u001b[0mWARNING ⚠️ /home/xaelee/Documents/datasetManipulation/Notebooks/datasets/Dataset-ViPARE-2/train/images/20211028supplement16_jpg.rf.43e1153972a5999ac9a04563b847aef5.jpg: 2 duplicate labels removed\n",
            "\u001b[34m\u001b[1mtrain: \u001b[0mWARNING ⚠️ /home/xaelee/Documents/datasetManipulation/Notebooks/datasets/Dataset-ViPARE-2/train/images/20211028supplement25_jpg.rf.cc511e2be16a04837c5c559ba96f6550.jpg: 1 duplicate labels removed\n",
            "\u001b[34m\u001b[1mtrain: \u001b[0mWARNING ⚠️ /home/xaelee/Documents/datasetManipulation/Notebooks/datasets/Dataset-ViPARE-2/train/images/new_2d_image-101-_jpg.rf.eeba44a51a873dd932ef559777fa6e9e.jpg: 1 duplicate labels removed\n",
            "\u001b[34m\u001b[1mval: \u001b[0mScanning /home/xaelee/Documents/datasetManipulation/Notebooks/datasets/Dataset-ViPARE-2/valid/labels.cache... 94 images, 1 backgrounds, 0 corrupt: 100%|██████████| 94/94 [00:00<?, ?it/s]\n",
            "Plotting labels to runs/segment/train2/labels.jpg... \n",
            "\u001b[34m\u001b[1moptimizer:\u001b[0m 'optimizer=auto' found, ignoring 'lr0=0.01' and 'momentum=0.937' and determining best 'optimizer', 'lr0' and 'momentum' automatically... \n",
            "\u001b[34m\u001b[1moptimizer:\u001b[0m AdamW(lr=0.000625, momentum=0.9) with parameter groups 66 weight(decay=0.0), 77 weight(decay=0.0005), 76 bias(decay=0.0)\n",
            "Image sizes 640 train, 640 val\n",
            "Using 0 dataloader workers\n",
            "Logging results to \u001b[1mruns/segment/train2\u001b[0m\n",
            "Starting training for 1 epochs...\n",
            "\n",
            "      Epoch    GPU_mem   box_loss   seg_loss   cls_loss   dfl_loss  Instances       Size\n",
            "        1/1         0G      1.218      2.144      5.537     0.9941          2        640: 100%|██████████| 23/23 [01:09<00:00,  3.01s/it]\n",
            "                 Class     Images  Instances      Box(P          R      mAP50  mAP50-95)     Mask(P          R      mAP50  mAP50-95): 100%|██████████| 6/6 [00:19<00:00,  3.33s/it]\n",
            "                   all         94        352    0.00183      0.206     0.0154    0.00984      0.002      0.213     0.0162     0.0135\n",
            "\n",
            "1 epochs completed in 0.026 hours.\n",
            "Optimizer stripped from runs/segment/train2/weights/last.pt, 6.8MB\n",
            "Optimizer stripped from runs/segment/train2/weights/best.pt, 6.8MB\n",
            "\n",
            "Validating runs/segment/train2/weights/best.pt...\n",
            "Ultralytics YOLOv8.0.196 🚀 Python-3.11.6 torch-2.2.0+cu121 CPU (AMD Ryzen 5 5625U with Radeon Graphics)\n",
            "YOLOv8n-seg summary (fused): 195 layers, 3260404 parameters, 0 gradients, 12.0 GFLOPs\n",
            "                 Class     Images  Instances      Box(P          R      mAP50  mAP50-95)     Mask(P          R      mAP50  mAP50-95): 100%|██████████| 6/6 [00:17<00:00,  2.88s/it]\n",
            "                   all         94        352    0.00183      0.206     0.0154    0.00991    0.00201      0.213     0.0162     0.0134\n",
            "                 autre         94         14    0.00119     0.0714    0.00104   0.000104    0.00119     0.0714    0.00496    0.00447\n",
            "   autre-papier-carton         94         71    0.00342      0.127    0.00807    0.00586    0.00533      0.197     0.0109    0.00849\n",
            "autre-plastique-fragments         94         28    0.00214     0.0714    0.00553    0.00261    0.00214     0.0714    0.00553    0.00324\n",
            "bouteille-en-plastique         94          3    0.00206      0.333    0.00534     0.0048    0.00206      0.333    0.00534     0.0048\n",
            "    bouteille-en-verre         94          4   0.000158       0.25   0.000486   9.72e-05   0.000158       0.25   0.000486   0.000243\n",
            "               canette         94          4    0.00727        0.5     0.0407     0.0329    0.00727        0.5     0.0407     0.0291\n",
            "emballage-alimentaire-papier         94         11    0.00159      0.364     0.0153     0.0124    0.00159      0.364     0.0153     0.0151\n",
            "emballage-alimentaire-plastique         94         22    0.00152      0.409     0.0885      0.046    0.00152      0.409     0.0902      0.078\n",
            "              indefini         94          4          0          0          0          0          0          0          0          0\n",
            "                 megot         94        184          0          0          0          0          0          0          0          0\n",
            " sac-ordures-menageres         94          7   0.000831      0.143    0.00427    0.00427   0.000831      0.143    0.00427    0.00427\n",
            "Speed: 2.7ms preprocess, 113.6ms inference, 0.0ms loss, 8.6ms postprocess per image\n",
            "Results saved to \u001b[1mruns/segment/train2\u001b[0m\n"
          ]
        }
      ],
      "source": [
        "# On check juste si on peut bien train le modèle, et qu'il arrive bien à load/accéder au dataset\n",
        "model = define_and_train()"
      ]
    },
    {
      "cell_type": "code",
      "execution_count": 6,
      "metadata": {},
      "outputs": [
        {
          "ename": "NameError",
          "evalue": "name 'display_test_image_seg_Rob' is not defined",
          "output_type": "error",
          "traceback": [
            "\u001b[0;31m---------------------------------------------------------------------------\u001b[0m",
            "\u001b[0;31mNameError\u001b[0m                                 Traceback (most recent call last)",
            "Cell \u001b[0;32mIn[6], line 1\u001b[0m\n\u001b[0;32m----> 1\u001b[0m \u001b[43mdisplay_test_image_seg_Rob\u001b[49m(\u001b[38;5;241m2\u001b[39m)\n",
            "\u001b[0;31mNameError\u001b[0m: name 'display_test_image_seg_Rob' is not defined"
          ]
        }
      ],
      "source": [
        "display_test_image_seg_Rob(2)"
      ]
    },
    {
      "cell_type": "code",
      "execution_count": null,
      "metadata": {},
      "outputs": [],
      "source": [
        "delete_roboflow_dataset()"
      ]
    }
  ],
  "metadata": {
    "colab": {
      "gpuType": "T4",
      "provenance": []
    },
    "kernelspec": {
      "display_name": "Python 3",
      "name": "python3"
    },
    "language_info": {
      "codemirror_mode": {
        "name": "ipython",
        "version": 3
      },
      "file_extension": ".py",
      "mimetype": "text/x-python",
      "name": "python",
      "nbconvert_exporter": "python",
      "pygments_lexer": "ipython3",
      "version": "3.11.6"
    }
  },
  "nbformat": 4,
  "nbformat_minor": 0
}
