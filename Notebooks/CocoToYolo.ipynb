{
 "cells": [
  {
   "cell_type": "markdown",
   "metadata": {},
   "source": [
    "# Transformer un dataset format COCO en un dataset format YOLO"
   ]
  },
  {
   "cell_type": "markdown",
   "metadata": {},
   "source": [
    "## Function definitions"
   ]
  },
  {
   "cell_type": "code",
   "execution_count": 64,
   "metadata": {},
   "outputs": [],
   "source": [
    "def cocoToYolo(dir_path):\n",
    "    import os\n",
    "    import json\n",
    "    import cv2\n",
    "    import numpy as np\n",
    "    import shutil\n",
    "    from tqdm import tqdm\n",
    "    from collections import defaultdict\n",
    "\n",
    "    # Load the COCO annotations\n",
    "    with open(os.path.join(dir_path, 'annotations.json')) as f:\n",
    "        data = json.load(f)\n",
    "\n",
    "    # Create a dictionary to map class names to class ids\n",
    "    class_map = {}\n",
    "    for i, category in enumerate(data['categories']):\n",
    "        class_map[category['id']] = i\n",
    "\n",
    "    # Create a dictionary to map image ids to image file names\n",
    "    image_map = {}\n",
    "    for image in data['images']:\n",
    "        image_map[image['id']] = image['file_name']\n",
    "\n",
    "    # Create a dictionary to map image file names to image ids\n",
    "    image_id_map = {}\n",
    "    for image in data['images']:\n",
    "        image_id_map[image['file_name']] = image['id']\n",
    "\n",
    "    # Create a dictionary to map image ids to image sizes\n",
    "    image_size_map = {}\n",
    "    for image in data['images']:\n",
    "        image_size_map[image['id']] = (image['width'], image['height'])\n",
    "\n",
    "    # Create a dictionary to map image ids to bounding boxes\n",
    "    segs = defaultdict(list)\n",
    "    for annotation in data['annotations']:\n",
    "        \n",
    "        image_id = annotation['image_id']\n",
    "        class_id = class_map[annotation['category_id']]\n",
    "    \n",
    "        # Convert COCO segmentation to Yolov8 segmentation (no bounding box, just polygon)\n",
    "        polygon = annotation['segmentation'][0]\n",
    "        segs[image_id].append((class_id, polygon))\n",
    "\n",
    "    # Create a directory to store the Yolov8 annotations\n",
    "    yolo_dir = os.path.join(dir_path, 'yolo')\n",
    "    if os.path.exists(yolo_dir):\n",
    "        shutil.rmtree(yolo_dir)\n",
    "    os.makedirs(yolo_dir)\n",
    "    \n",
    "    # Create a directory to store the Yolov8 images\n",
    "    yolo_img_dir = os.path.join(yolo_dir, 'images')\n",
    "    os.makedirs(yolo_img_dir)\n",
    "\n",
    "    # Create a directory to store the Yolov8 labels\n",
    "    yolo_label_dir = os.path.join(yolo_dir, 'labels')\n",
    "    os.makedirs(yolo_label_dir)\n",
    "\n",
    "    # Convert the COCO annotations to Yolov8 annotations\n",
    "    for image_id, seg in tqdm(segs.items()):\n",
    "        # Load the image\n",
    "        img = cv2.imread(os.path.join(dir_path, image_map[image_id]))\n",
    "        img_h, img_w, _ = img.shape\n",
    "\n",
    "        # Create a file to store the Yolov8 annotations\n",
    "\n",
    "        yolo_label_file = os.path.join(yolo_label_dir, image_map[image_id].replace('jpg', 'txt').replace('/', '_').replace('JPG', 'txt'))\n",
    "        with open(yolo_label_file, 'w') as f:\n",
    "            for class_id, polygon in seg:\n",
    "                # Convert COCO polygon to Yolov8 polygon\n",
    "\n",
    "                polygon = np.array(polygon).reshape(-1, 2).astype(float)\n",
    "                polygon[:, 0] = polygon[:, 0] / (1.0 * img_w)\n",
    "                polygon[:, 1] = polygon[:, 1] / (1.0 * img_h)\n",
    "                polygon = polygon.reshape(-1)\n",
    "                polygon = ' '.join([str(p) for p in polygon])\n",
    "\n",
    "                # Write the Yolov8 annotation to the file\n",
    "                f.write(f'{class_id} {polygon}\\n')\n",
    "\n",
    "        # Save the Yolov8 image)\n",
    "        cv2.imwrite(os.path.join(yolo_img_dir, image_map[image_id].replace('/', '_')), img)\n",
    "\n",
    "    print('Done!')\n",
    "\n"
   ]
  },
  {
   "cell_type": "code",
   "execution_count": 83,
   "metadata": {},
   "outputs": [],
   "source": [
    "#split the dataset into train, test and validation\n",
    "\n",
    "# j'ai tenté des trucs avant ça sur base d'ouvrir les dirs, shuffle les images et les copier dans les bons dossiers mais même avec des combine et en faisant le shuffle \n",
    "# seulement sur le combine les images et labels ne correspondaient pas, donc je suis partie sur un super module proposé dans une réponse stackoverflow - si vous avez un\n",
    "# outil privilégié pour faire ce split autrement je suis preneuse!\n",
    "\n",
    "def split_dataset(dir_path, train_ratio, test_ratio, val_ratio):\n",
    "\n",
    "    import splitfolders\n",
    "    splitfolders.ratio(dir_path, output=dir_path, seed=1337, ratio=(train_ratio, test_ratio, val_ratio))\n",
    "\n",
    "    "
   ]
  },
  {
   "cell_type": "markdown",
   "metadata": {},
   "source": [
    "## Example d'utilisation"
   ]
  },
  {
   "cell_type": "code",
   "execution_count": 79,
   "metadata": {},
   "outputs": [
    {
     "name": "stderr",
     "output_type": "stream",
     "text": [
      "100%|██████████| 1500/1500 [04:49<00:00,  5.19it/s]"
     ]
    },
    {
     "name": "stdout",
     "output_type": "stream",
     "text": [
      "Done!\n"
     ]
    },
    {
     "name": "stderr",
     "output_type": "stream",
     "text": [
      "\n"
     ]
    }
   ],
   "source": [
    "cocoToYolo('./Notebooks/TACO/data/')"
   ]
  },
  {
   "cell_type": "code",
   "execution_count": 81,
   "metadata": {},
   "outputs": [
    {
     "name": "stdout",
     "output_type": "stream",
     "text": [
      "\u001b[33mDEPRECATION: Loading egg at /home/xaelee/Documents/default/lib/python3.11/site-packages/pycocotools-2.0-py3.11-linux-x86_64.egg is deprecated. pip 24.3 will enforce this behaviour change. A possible replacement is to use pip for package installation.. Discussion can be found at https://github.com/pypa/pip/issues/12330\u001b[0m\u001b[33m\n",
      "\u001b[0mCollecting split-folders\n",
      "  Downloading split_folders-0.5.1-py3-none-any.whl (8.4 kB)\n",
      "Installing collected packages: split-folders\n",
      "Successfully installed split-folders-0.5.1\n",
      "Note: you may need to restart the kernel to use updated packages.\n"
     ]
    }
   ],
   "source": [
    "%pip install split-folders"
   ]
  },
  {
   "cell_type": "code",
   "execution_count": 82,
   "metadata": {},
   "outputs": [
    {
     "name": "stderr",
     "output_type": "stream",
     "text": [
      "Copying files: 3000 files [00:09, 301.17 files/s] \n"
     ]
    }
   ],
   "source": [
    "split_dataset('./Notebooks/TACO/data/yolo', 0.7, 0.2, 0.1)"
   ]
  }
 ],
 "metadata": {
  "kernelspec": {
   "display_name": "default",
   "language": "python",
   "name": "python3"
  },
  "language_info": {
   "codemirror_mode": {
    "name": "ipython",
    "version": 3
   },
   "file_extension": ".py",
   "mimetype": "text/x-python",
   "name": "python",
   "nbconvert_exporter": "python",
   "pygments_lexer": "ipython3",
   "version": "3.11.6"
  }
 },
 "nbformat": 4,
 "nbformat_minor": 2
}
